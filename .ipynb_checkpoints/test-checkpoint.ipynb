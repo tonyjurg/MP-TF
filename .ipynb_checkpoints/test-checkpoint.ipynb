{
 "cells": [
  {
   "cell_type": "code",
   "execution_count": 1,
   "id": "29d00b37-9e7a-4b14-afc6-73bdd49692ee",
   "metadata": {},
   "outputs": [],
   "source": [
    "from tf.fabric import Fabric\n",
    "from tf.app import use"
   ]
  },
  {
   "cell_type": "code",
   "execution_count": 2,
   "id": "4154fe45-9f67-476d-8cd0-5dc8b7a80250",
   "metadata": {},
   "outputs": [
    {
     "data": {
      "text/markdown": [
       "**Locating corpus resources ...**"
      ],
      "text/plain": [
       "<IPython.core.display.Markdown object>"
      ]
     },
     "metadata": {},
     "output_type": "display_data"
    },
    {
     "name": "stdout",
     "output_type": "stream",
     "text": [
      "The requested app is not available offline\n",
      "\t~/text-fabric-data/github/tjurg/MP-TF/app not found\n"
     ]
    },
    {
     "name": "stderr",
     "output_type": "stream",
     "text": [
      "Cannot follow https:/github.com/tjurg/MP-TF/releases/latest: HTTP Error 404: Not Found\n"
     ]
    },
    {
     "name": "stdout",
     "output_type": "stream",
     "text": [
      "Could not get rate limit details\n",
      "unexpected error from github.GithubException: 401 {\"message\": \"Bad credentials\", \"documentation_url\": \"https:/docs.github.com/rest\", \"status\": \"401\"}\n",
      "\tconnecting to online GitHub repo tjurg/MP-TF ... failed\n",
      "unexpected error from github.GithubException: 401 {\"message\": \"Bad credentials\", \"documentation_url\": \"https:/docs.github.com/rest\", \"status\": \"401\"}\n"
     ]
    },
    {
     "name": "stderr",
     "output_type": "stream",
     "text": [
      "The requested app is not available offline\n"
     ]
    },
    {
     "name": "stdout",
     "output_type": "stream",
     "text": [
      "The requested data is not available offline\n",
      "\t~/text-fabric-data/github/tjurg/MP-TF/tf/test not found\n",
      "Could not get rate limit details\n",
      "unexpected error from github.GithubException: 401 {\"message\": \"Bad credentials\", \"documentation_url\": \"https:/docs.github.com/rest\", \"status\": \"401\"}\n",
      "\tconnecting to online GitHub repo tjurg/MP-TF ... failed\n",
      "unexpected error from github.GithubException: 401 {\"message\": \"Bad credentials\", \"documentation_url\": \"https:/docs.github.com/rest\", \"status\": \"401\"}\n"
     ]
    },
    {
     "name": "stderr",
     "output_type": "stream",
     "text": [
      "The requested data is not available offline\n",
      "There were problems with loading data.\n",
      "The TF API has not been loaded!\n",
      "The app \"tjurg/MP-TF\" will not work!\n"
     ]
    }
   ],
   "source": [
    "# load the N1904 app and data\n",
    "N1904 = use (\"tjurg/MP-TF\", version=\"test\", hoist=globals())"
   ]
  },
  {
   "cell_type": "code",
   "execution_count": null,
   "id": "e14f9a6b-e1bb-4fa9-90f6-a91b687e0ef4",
   "metadata": {},
   "outputs": [],
   "source": []
  }
 ],
 "metadata": {
  "kernelspec": {
   "display_name": "Python 3 (ipykernel)",
   "language": "python",
   "name": "python3"
  },
  "language_info": {
   "codemirror_mode": {
    "name": "ipython",
    "version": 3
   },
   "file_extension": ".py",
   "mimetype": "text/x-python",
   "name": "python",
   "nbconvert_exporter": "python",
   "pygments_lexer": "ipython3",
   "version": "3.12.7"
  }
 },
 "nbformat": 4,
 "nbformat_minor": 5
}
